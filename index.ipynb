{
 "cells": [
  {
   "cell_type": "markdown",
   "metadata": {},
   "source": [
    "# APIs - Cumulative Lab\n",
    "\n",
    "\n",
    "## Introduction \n",
    "\n",
    "We've seen how the Yelp API works and how to create basic visualizations using Folium. It's time to put those skills to work in order to create a working map! Taking things a step further, you'll also independently explore how to perform pagination in order to retrieve a full results set from the Yelp API.\n",
    "\n",
    "## Objectives\n",
    "\n",
    "You will be able to: \n",
    "\n",
    "* Practice using functions to organize your code\n",
    "* Use pagination to retrieve all results from an API query\n",
    "* Practice parsing data returned from an API query\n",
    "* Practice interpreting visualizations of a dataset\n",
    "* Create maps using Folium"
   ]
  },
  {
   "cell_type": "markdown",
   "metadata": {},
   "source": [
    "## Your Task: Query Yelp for All Businesses in a Category and Analyze the Results\n",
    "\n",
    "![restaurant counter with pizza](images/restaurant_counter.jpg)\n",
    "\n",
    "Photo by <a href=\"https://unsplash.com/@jordanmadrid?utm_source=unsplash&utm_medium=referral&utm_content=creditCopyText\">Jordan Madrid</a> on <a href=\"/s/photos/pizza-restaurant?utm_source=unsplash&utm_medium=referral&utm_content=creditCopyText\">Unsplash</a>"
   ]
  },
  {
   "cell_type": "markdown",
   "metadata": {},
   "source": [
    "### Overview\n",
    "\n",
    "You've now worked with some API calls, but we have yet to see how to retrieve a more complete dataset in a programmatic manner. In this lab, you will write a query of businesses on Yelp, then use *pagination* to retrieve all possible results for that query. Then you will create a summary of your findings, including a Folium map of the geographic locations of those businesses.\n",
    "\n",
    "### Technical Details\n",
    "\n",
    "Returning to the Yelp API, the [documentation](https://www.yelp.com/developers/documentation/v3/business_search) also provides us details regarding the **API limits**. These often include details about the number of requests a user is allowed to make within a specified time limit and the maximum number of results to be returned. In this case, we are told that any request has a **maximum of 50 results per request** and defaults to 20. Furthermore, any search will be limited to a **total of 1000 results**. To retrieve all 1000 of these results, we would have to page through the results piece by piece, retrieving 50 at a time. Processes such as these are often referred to as pagination.\n",
    "\n",
    "Also, be mindful of the **API** ***rate*** **limits**. You can only make **5000 requests per day** and are also can make requests too fast. Start prototyping small before running a loop that could be faulty. You can also use `time.sleep(n)` to add delays. For more details see https://www.yelp.com/developers/documentation/v3/rate_limiting.\n",
    "\n",
    "In this lab, you will define a search and then paginate over the results to retrieve all of the results. You'll then parse these responses as a list of dictionaries (for further exploration) and create a map using Folium to visualize the results geographically.\n",
    "\n",
    "### Requirements\n",
    "\n",
    "#### 1. Make the Initial Request\n",
    "\n",
    "Start by filling in your API key to make the initial request to the business search API. Investigate the structure of the response you get back and start figuring out how you will extract the relevant information.\n",
    "\n",
    "#### 2. Add Pagination\n",
    "\n",
    "Using loops and functions, collect the maximum number of results for your query from the API.\n",
    "\n",
    "#### 3. Perform Exploratory Analysis\n",
    "\n",
    "Interpret visualizations related to the price range, average rating, and number of reviews for all query results.\n",
    "\n",
    "#### 4. Create a Folium Map\n",
    "\n",
    "Using latitude and longitude data, plot the query results on an interactive map."
   ]
  },
  {
   "cell_type": "markdown",
   "metadata": {},
   "source": [
    "## 1. Make the Initial Request\n",
    "\n",
    "### Querying\n",
    "\n",
    "Start by making an initial request to the Yelp API. Your search must include at least 2 parameters: **term** and **location**. For example, you might search for pizza restaurants in NYC. The term and location is up to you but make the request below.\n",
    "\n",
    "Use the `requests` library ([documentation here](https://requests.readthedocs.io/en/master/user/quickstart/#make-a-request)).\n",
    "\n",
    "You'll also need an API key from Yelp. If you haven't done this already, go to the Yelp [Manage App page](https://www.yelp.com/developers/v3/manage_app) and create a new app (after making an account if you haven't already)."
   ]
  },
  {
   "cell_type": "code",
   "execution_count": 5,
   "metadata": {},
   "outputs": [
    {
     "data": {
      "text/plain": [
       "<Response [200]>"
      ]
     },
     "execution_count": 5,
     "metadata": {},
     "output_type": "execute_result"
    }
   ],
   "source": [
    "# Replace None with appropriate code\n",
    "\n",
    "# Import the requests library\n",
    "import requests\n",
    "import json\n",
    "\n",
    "def get_keys(path):\n",
    "    with open(path) as f:\n",
    "        return json.load(f)\n",
    "\n",
    "# Get this from the \"Manage App\" page. Make sure you set them\n",
    "# back to None before pushing this to GitHub, since otherwise\n",
    "# your credentials will be compromised\n",
    "\n",
    "keys = get_keys(\"/Users/jodyharing/.secret/yelp_api.json\")\n",
    "\n",
    "api_key = keys['api_key']\n",
    "\n",
    "# These can be whatever you want! But the solution uses \"pizza\"\n",
    "# and \"New York NY\" if you want to compare your work directly\n",
    "term = \"vegan\"\n",
    "location = \"Asheville NC\"\n",
    "\n",
    "# Set up params for request\n",
    "url = \"https://api.yelp.com/v3/businesses/search\"\n",
    "headers = {\n",
    "    \"Authorization\": \"Bearer {}\".format(api_key)\n",
    "}\n",
    "url_params = {\n",
    "    \"term\": term.replace(\" \", \"+\"),\n",
    "    \"location\": location.replace(\" \", \"+\")\n",
    "}\n",
    "\n",
    "# Make the request using requests.get, passing in\n",
    "# url, headers=headers, and params=url_params\n",
    "response = requests.get(url, headers=headers, params=url_params)\n",
    "\n",
    "# Confirm we got a 200 response\n",
    "response"
   ]
  },
  {
   "cell_type": "code",
   "execution_count": 6,
   "metadata": {},
   "outputs": [
    {
     "data": {
      "text/plain": [
       "dict_keys(['businesses', 'total', 'region'])"
      ]
     },
     "execution_count": 6,
     "metadata": {},
     "output_type": "execute_result"
    }
   ],
   "source": [
    "# Run this cell without changes\n",
    "\n",
    "# Get the response body in JSON format\n",
    "response_json = response.json()\n",
    "# View the keys\n",
    "response_json.keys()"
   ]
  },
  {
   "cell_type": "markdown",
   "metadata": {},
   "source": [
    "### Extracting Data\n",
    "\n",
    "Now, retrieve the value associated with the `'businesses'` key, and inspect its contents."
   ]
  },
  {
   "cell_type": "code",
   "execution_count": 9,
   "metadata": {},
   "outputs": [
    {
     "data": {
      "text/plain": [
       "[{'id': 'QQB1edQLbobx91Z4i9ns5w',\n",
       "  'alias': 'laughing-seed-cafe-asheville',\n",
       "  'name': 'Laughing Seed Cafe',\n",
       "  'image_url': 'https://s3-media2.fl.yelpcdn.com/bphoto/wvePrz31N1U_vP6GdCvznQ/o.jpg',\n",
       "  'is_closed': False,\n",
       "  'url': 'https://www.yelp.com/biz/laughing-seed-cafe-asheville?adjust_creative=YGIxZy4oiy6hw5BDGGZ71w&utm_campaign=yelp_api_v3&utm_medium=api_v3_business_search&utm_source=YGIxZy4oiy6hw5BDGGZ71w',\n",
       "  'review_count': 768,\n",
       "  'categories': [{'alias': 'vegetarian', 'title': 'Vegetarian'},\n",
       "   {'alias': 'vegan', 'title': 'Vegan'},\n",
       "   {'alias': 'gluten_free', 'title': 'Gluten-Free'}],\n",
       "  'rating': 4.0,\n",
       "  'coordinates': {'latitude': 35.59453, 'longitude': -82.55582},\n",
       "  'transactions': ['delivery'],\n",
       "  'price': '$$',\n",
       "  'location': {'address1': '40 Wall St',\n",
       "   'address2': '',\n",
       "   'address3': '',\n",
       "   'city': 'Asheville',\n",
       "   'zip_code': '28801',\n",
       "   'country': 'US',\n",
       "   'state': 'NC',\n",
       "   'display_address': ['40 Wall St', 'Asheville, NC 28801']},\n",
       "  'phone': '+18282523445',\n",
       "  'display_phone': '(828) 252-3445',\n",
       "  'distance': 1276.7205487467152},\n",
       " {'id': 'Rgnii9bEW-VH_90GgqdI8w',\n",
       "  'alias': 'rosettas-kitchen-and-the-buchi-bar-asheville',\n",
       "  'name': \"Rosetta's Kitchen & The Buchi Bar\",\n",
       "  'image_url': 'https://s3-media3.fl.yelpcdn.com/bphoto/f0MlFu8zHESR0OsWohg--Q/o.jpg',\n",
       "  'is_closed': False,\n",
       "  'url': 'https://www.yelp.com/biz/rosettas-kitchen-and-the-buchi-bar-asheville?adjust_creative=YGIxZy4oiy6hw5BDGGZ71w&utm_campaign=yelp_api_v3&utm_medium=api_v3_business_search&utm_source=YGIxZy4oiy6hw5BDGGZ71w',\n",
       "  'review_count': 465,\n",
       "  'categories': [{'alias': 'vegetarian', 'title': 'Vegetarian'},\n",
       "   {'alias': 'vegan', 'title': 'Vegan'},\n",
       "   {'alias': 'bars', 'title': 'Bars'}],\n",
       "  'rating': 4.5,\n",
       "  'coordinates': {'latitude': 35.59875, 'longitude': -82.55392},\n",
       "  'transactions': ['delivery'],\n",
       "  'price': '$$',\n",
       "  'location': {'address1': '116 N Lexington Ave',\n",
       "   'address2': '',\n",
       "   'address3': '',\n",
       "   'city': 'Asheville',\n",
       "   'zip_code': '28801',\n",
       "   'country': 'US',\n",
       "   'state': 'NC',\n",
       "   'display_address': ['116 N Lexington Ave', 'Asheville, NC 28801']},\n",
       "  'phone': '+18282320738',\n",
       "  'display_phone': '(828) 232-0738',\n",
       "  'distance': 1757.937539983558}]"
      ]
     },
     "execution_count": 9,
     "metadata": {},
     "output_type": "execute_result"
    }
   ],
   "source": [
    "# Replace None with appropriate code\n",
    "\n",
    "# Retrieve the value from response_json\n",
    "businesses = response_json[\"businesses\"]\n",
    "\n",
    "# View the first 2 records\n",
    "businesses[:2]"
   ]
  },
  {
   "cell_type": "markdown",
   "metadata": {},
   "source": [
    "### Preparing Data\n",
    "\n",
    "Write a function `prepare_data` that takes in a list of dictionaries like `businesses` and returns a copy that has been prepared for analysis:\n",
    "\n",
    "1. The `coordinates` key-value pair has been converted into two separate key-value pairs, `latitude` and `longitude`\n",
    "2. All other key-value pairs except for `name`, `review_count`, `rating`, and `price` have been dropped\n",
    "3. All dictionaries missing one of the relevant keys or containing null values have been dropped\n",
    "\n",
    "In other words, the final keys for each dictionary should be `name`, `review_count`, `rating`, `price`, `latitude`, and `longitude`.\n",
    "\n",
    "Complete the function in the cell below:"
   ]
  },
  {
   "cell_type": "code",
   "execution_count": 11,
   "metadata": {},
   "outputs": [
    {
     "data": {
      "text/plain": [
       "[{'name': 'Laughing Seed Cafe',\n",
       "  'review_count': 768,\n",
       "  'rating': 4.0,\n",
       "  'price': '$$',\n",
       "  'latitude': 35.59453,\n",
       "  'longitude': -82.55582},\n",
       " {'name': \"Rosetta's Kitchen & The Buchi Bar\",\n",
       "  'review_count': 465,\n",
       "  'rating': 4.5,\n",
       "  'price': '$$',\n",
       "  'latitude': 35.59875,\n",
       "  'longitude': -82.55392},\n",
       " {'name': 'Plant',\n",
       "  'review_count': 547,\n",
       "  'rating': 4.5,\n",
       "  'price': '$$',\n",
       "  'latitude': 35.604731,\n",
       "  'longitude': -82.552837},\n",
       " {'name': 'Pulp And sprout',\n",
       "  'review_count': 102,\n",
       "  'rating': 4.5,\n",
       "  'price': '$$',\n",
       "  'latitude': 35.6029177616449,\n",
       "  'longitude': -82.5515524019366},\n",
       " {'name': 'Early Girl Eatery - Downtown Asheville',\n",
       "  'review_count': 1201,\n",
       "  'rating': 4.0,\n",
       "  'price': '$$',\n",
       "  'latitude': 35.5949146353158,\n",
       "  'longitude': -82.5549657502242}]"
      ]
     },
     "execution_count": 11,
     "metadata": {},
     "output_type": "execute_result"
    }
   ],
   "source": [
    "# Replace None with appropriate code\n",
    "\n",
    "def prepare_data(data_list):\n",
    "    #This function takes in a list of dictionaries and prepares it\n",
    "    #for analysis\n",
    "        \n",
    "    \n",
    "    # Make a new list to hold results\n",
    "    results = []\n",
    "    \n",
    "    for business_data in data_list:\n",
    "    \n",
    "        # Make a new dictionary to hold prepared data for this business\n",
    "        prepared_data = {}\n",
    "        \n",
    "        # Extract name, review_count, rating, and price key-value pairs\n",
    "        # from business_data and add to prepared_data\n",
    "        # If a key is not present in business_data, add it to prepared_data\n",
    "        # with an associated value of None\n",
    "        for key in ('name','review_count','rating','price'):\n",
    "            prepared_data[key] = business_data.get(key, None)\n",
    "    \n",
    "        # Parse and add latitude and longitude columns\n",
    "        coordinates = business_data[\"coordinates\"]\n",
    "        prepared_data[\"latitude\"] = coordinates[\"latitude\"]\n",
    "        prepared_data[\"longitude\"] = coordinates[\"longitude\"]\n",
    "        \n",
    "        # Add to list if all values are present\n",
    "        if all(prepared_data.values()):\n",
    "            results.append(prepared_data)\n",
    "    \n",
    "    return results\n",
    "    \n",
    "# Test out function\n",
    "prepared_businesses = prepare_data(businesses)\n",
    "prepared_businesses[:5]"
   ]
  },
  {
   "cell_type": "markdown",
   "metadata": {},
   "source": [
    "Check that your function created the correct keys:"
   ]
  },
  {
   "cell_type": "code",
   "execution_count": 12,
   "metadata": {},
   "outputs": [],
   "source": [
    "# Run this cell without changes\n",
    "\n",
    "assert sorted(list(prepared_businesses[0].keys())) == ['latitude', 'longitude', 'name', 'price', 'rating', 'review_count']"
   ]
  },
  {
   "cell_type": "markdown",
   "metadata": {},
   "source": [
    "The following code will differ depending on your query, but we expect there to be 20 businesses in the original list, and potentially fewer in the prepared list (if any of them were missing data):"
   ]
  },
  {
   "cell_type": "code",
   "execution_count": 13,
   "metadata": {},
   "outputs": [
    {
     "name": "stdout",
     "output_type": "stream",
     "text": [
      "Original: 20\n",
      "Prepared: 18\n"
     ]
    }
   ],
   "source": [
    "# Run this cell without changes\n",
    "print(\"Original:\", len(businesses))\n",
    "print(\"Prepared:\", len(prepared_businesses))"
   ]
  },
  {
   "cell_type": "markdown",
   "metadata": {},
   "source": [
    "Great! We will reuse this function once we have retrieved the full dataset."
   ]
  },
  {
   "cell_type": "markdown",
   "metadata": {},
   "source": [
    "## 2. Add Pagination\n",
    "\n",
    "Now that you are able to extract information from one page of the response, let's figure out how to request as many pages as possible.\n",
    "\n",
    "### Determining the Total\n",
    "\n",
    "Depending on the number of total results for your query, you will either retrieve all of the results, or just the first 1000 (if there are more than 1000 total).\n",
    "\n",
    "We can find the total number of results using the `\"total\"` key:"
   ]
  },
  {
   "cell_type": "code",
   "execution_count": 14,
   "metadata": {},
   "outputs": [
    {
     "data": {
      "text/plain": [
       "340"
      ]
     },
     "execution_count": 14,
     "metadata": {},
     "output_type": "execute_result"
    }
   ],
   "source": [
    "# Run this cell without changes\n",
    "response_json[\"total\"]"
   ]
  },
  {
   "cell_type": "markdown",
   "metadata": {},
   "source": [
    "(This is specific to the implementation of the Yelp API. Some APIs will just tell you that there are more pages, or will tell you the number of pages total, rather than the total number of results. If you're not sure, always check the documentation.)\n",
    "\n",
    "In the cell below, assign the variable `total` to either the value shown above (if it is less than 1000), or 1000."
   ]
  },
  {
   "cell_type": "code",
   "execution_count": 15,
   "metadata": {},
   "outputs": [],
   "source": [
    "# Replace None with appropriate code\n",
    "total = 340"
   ]
  },
  {
   "cell_type": "markdown",
   "metadata": {},
   "source": [
    "### Calculating the Offsets\n",
    "\n",
    "The documentation states in the parameters section:\n",
    "\n",
    "> **Name**: `limit`, **Type:** int, **Description:** Optional. Number of business results to return. By default, it will return 20. Maximum is 50.\n",
    "\n",
    "> **Name**: `offset`, **Type:** int, **Description:** Optional. Offset the list of returned business results by this amount.\n",
    "\n",
    "So, to get the most results with the fewest API calls we want to set a limit of 50 every time. If, say, we wanted to get 210 total results, that would mean:\n",
    "\n",
    "1. Offset of `0` (first 50 records)\n",
    "2. Offset of `50` (second 50 records)\n",
    "3. Offset of `100` (third 50 records)\n",
    "4. Offset of `150` (fourth 50 records)\n",
    "5. Offset of `200` (final 10 records)\n",
    "\n",
    "In the cell below, create a function `get_offsets` that takes in a total and returns a list of offsets for that total. You can assume that there is a limit of 50 every time.\n",
    "\n",
    "*Hint: you can use `range` ([documentation here](https://docs.python.org/3.3/library/stdtypes.html?highlight=range#range)) to do this in one line of code. Just make the returned result is a list.*"
   ]
  },
  {
   "cell_type": "code",
   "execution_count": 16,
   "metadata": {},
   "outputs": [],
   "source": [
    "# Replace None with appropriate code\n",
    "def get_offsets(total):\n",
    "    \"\"\"\n",
    "    Get a list of offsets needed to get all pages\n",
    "    of data up until the total\n",
    "    \"\"\"\n",
    "    return list(range(0, total, 50))"
   ]
  },
  {
   "cell_type": "markdown",
   "metadata": {},
   "source": [
    "Check that your function works below:"
   ]
  },
  {
   "cell_type": "code",
   "execution_count": 17,
   "metadata": {},
   "outputs": [],
   "source": [
    "# Run this cell without changes\n",
    "\n",
    "assert get_offsets(200) == [0, 50, 100, 150]\n",
    "assert get_offsets(210) == [0, 50, 100, 150, 200]"
   ]
  },
  {
   "cell_type": "markdown",
   "metadata": {},
   "source": [
    "### Putting It All Together\n",
    "\n",
    "Recall that the following variable has already been declared for you:"
   ]
  },
  {
   "cell_type": "code",
   "execution_count": 18,
   "metadata": {},
   "outputs": [
    {
     "data": {
      "text/plain": [
       "{'term': 'vegan', 'location': 'Asheville+NC'}"
      ]
     },
     "execution_count": 18,
     "metadata": {},
     "output_type": "execute_result"
    }
   ],
   "source": [
    "# Run this cell without changes\n",
    "url_params"
   ]
  },
  {
   "cell_type": "markdown",
   "metadata": {},
   "source": [
    "We'll go ahead and also specify that the limit should be 50 every time:"
   ]
  },
  {
   "cell_type": "code",
   "execution_count": 19,
   "metadata": {},
   "outputs": [],
   "source": [
    "# Run this cell without changes\n",
    "url_params[\"limit\"] = 50"
   ]
  },
  {
   "cell_type": "markdown",
   "metadata": {},
   "source": [
    "In order to modify the offset, you'll need to add it to `url_params` with the key `\"offset\"` and whatever value is needed.\n",
    "\n",
    "In the cell below, write code that:\n",
    "\n",
    "* Creates an empty list for the full prepared dataset\n",
    "* Loops over all of the offsets from `get_offsets` and makes an API call each time with the specified offset\n",
    "* Calls `prepare_data` to get a cleaned version of the result of each API call\n",
    "* Extends the full prepared dataset list with each query's prepared dataset"
   ]
  },
  {
   "cell_type": "code",
   "execution_count": 20,
   "metadata": {},
   "outputs": [
    {
     "data": {
      "text/plain": [
       "298"
      ]
     },
     "execution_count": 20,
     "metadata": {},
     "output_type": "execute_result"
    }
   ],
   "source": [
    "# Replace None with appropriate code\n",
    "\n",
    "# Create an empty list for the full prepared dataset\n",
    "full_dataset = []\n",
    "\n",
    "for offset in get_offsets(total):\n",
    "    # Add or update the \"offset\" key-value pair in url_params\n",
    "    url_params[\"offset\"] = offset\n",
    "    \n",
    "    # Make the query and get the response\n",
    "    response = requests.get(url, headers=headers, params=url_params)\n",
    "    \n",
    "    # Get the response body in JSON format\n",
    "    response_json = response.json()\n",
    "    \n",
    "    # Get the list of businesses from the response_json\n",
    "    businesses = response_json[\"businesses\"]\n",
    "    \n",
    "    # Call the prepare_data function to get a list of processed data\n",
    "    prepared_businesses = prepare_data(businesses)\n",
    "    \n",
    "    # Extend full_dataset with this list (don't append, or you'll get\n",
    "    # a list of lists instead of a flat list)\n",
    "    full_dataset.extend(prepared_businesses)\n",
    "\n",
    "# Check the length of the full dataset. It will be up to `total`,\n",
    "# potentially less if there were missing values\n",
    "len(full_dataset)"
   ]
  },
  {
   "cell_type": "markdown",
   "metadata": {},
   "source": [
    "This code may take up to a few minutes to run.\n",
    "\n",
    "If you get an error trying to get the response body in JSON format, try adding `time.sleep(1)` right after the `requests.get` line, so your code will sleep for 1 second between each API call."
   ]
  },
  {
   "cell_type": "markdown",
   "metadata": {},
   "source": [
    "## 3. Perform Exploratory Analysis\n",
    "\n",
    "Take the businesses from the previous question and do an initial exploratory analysis. We have provided some plots for you to interpret:"
   ]
  },
  {
   "cell_type": "code",
   "execution_count": 21,
   "metadata": {},
   "outputs": [
    {
     "data": {
      "image/png": "[encoded data removed]",
      "text/plain": [
       "<Figure size 1152x360 with 3 Axes>"
      ]
     },
     "metadata": {
      "needs_background": "light"
     },
     "output_type": "display_data"
    }
   ],
   "source": [
    "# Run this cell without changes\n",
    "from collections import Counter\n",
    "import matplotlib.pyplot as plt\n",
    "%matplotlib inline\n",
    "\n",
    "fig, (ax1, ax2, ax3) = plt.subplots(ncols=3, figsize=(16, 5))\n",
    "\n",
    "# Plot distribution of number of reviews\n",
    "all_review_counts = [x[\"review_count\"] for x in full_dataset]\n",
    "ax1.hist(all_review_counts)\n",
    "ax1.set_title(\"Review Count Distribution\")\n",
    "ax1.set_xlabel(\"Number of Reviews\")\n",
    "ax1.set_ylabel(\"Number of Businesses\")\n",
    "\n",
    "# Plot rating distribution\n",
    "all_ratings = [x[\"rating\"] for x in full_dataset]\n",
    "rating_counter = Counter(all_ratings)\n",
    "rating_keys = sorted(rating_counter.keys())\n",
    "ax2.bar(rating_keys, [rating_counter[key] for key in rating_keys])\n",
    "ax2.set_title(\"Rating Distribution\")\n",
    "ax2.set_xlabel(\"Rating\")\n",
    "ax2.set_ylabel(\"Number of Businesses\")\n",
    "\n",
    "# Plot price distribution\n",
    "all_prices = [x[\"price\"].replace(\"$\", r\"\\$\") for x in full_dataset]\n",
    "price_counter = Counter(all_prices)\n",
    "price_keys = sorted(price_counter.keys())\n",
    "ax3.bar(price_keys, [price_counter[key] for key in price_keys])\n",
    "ax3.set_title(\"Price Distribution\")\n",
    "ax3.set_xlabel(\"Price Category\")\n",
    "ax3.set_ylabel(\"Number of Businesses\");"
   ]
  },
  {
   "cell_type": "markdown",
   "metadata": {},
   "source": [
    "Describe the distributions displayed above and interpret them in the context of your query. (Your answer may differ from the solution branch depending on your query.)"
   ]
  },
  {
   "cell_type": "code",
   "execution_count": null,
   "metadata": {},
   "outputs": [],
   "source": [
    "# Replace None with appropriate text\n",
    "\"\"\"\n",
    "Most of the 298 businesses queried have between 0 and ~300 reviews, while some retaurants have up to 3,000.\n",
    "The ratings are skewed towards the higher end with most restaurants centered around a 4 rating.\n",
    "\"\"\""
   ]
  },
  {
   "cell_type": "markdown",
   "metadata": {},
   "source": [
    "In the cell below, we also plot the rating distributions by price. In this setup, a price of one dollar sign is \"lower price\" and everything else is \"higher price\"."
   ]
  },
  {
   "cell_type": "code",
   "execution_count": 22,
   "metadata": {},
   "outputs": [
    {
     "data": {
      "image/png": "[encoded data removed]",
      "text/plain": [
       "<Figure size 432x288 with 1 Axes>"
      ]
     },
     "metadata": {
      "needs_background": "light"
     },
     "output_type": "display_data"
    }
   ],
   "source": [
    "# Run this cell without changes\n",
    "\n",
    "higher_price = []\n",
    "lower_price = []\n",
    "for row in full_dataset:\n",
    "    if row[\"price\"] == \"$\":\n",
    "        lower_price.append(row[\"rating\"])\n",
    "    else:\n",
    "        higher_price.append(row[\"rating\"])\n",
    "        \n",
    "fig, ax = plt.subplots()\n",
    "\n",
    "ax.hist([higher_price, lower_price], label=[\"higher price\", \"lower price\"], density=True)\n",
    "\n",
    "ax.legend();"
   ]
  },
  {
   "cell_type": "markdown",
   "metadata": {},
   "source": [
    "Is a higher price associated with a higher rating? (No need for any additional math/statistics, just interpret what you see in the plot.)"
   ]
  },
  {
   "cell_type": "code",
   "execution_count": null,
   "metadata": {},
   "outputs": [],
   "source": [
    "# Replace None with appropriate text\n",
    "\"\"\"\n",
    "While lower price restaurants take up the bulk of the lower ratings and higher priced restaurants\n",
    "clearly win in the 4 star review category, but then lower price restaurants take over with ratings\n",
    "of 4.5 and higher.\n",
    "\"\"\""
   ]
  },
  {
   "cell_type": "markdown",
   "metadata": {},
   "source": [
    "Finally, let's look at ratings vs. review counts:"
   ]
  },
  {
   "cell_type": "code",
   "execution_count": 23,
   "metadata": {},
   "outputs": [
    {
     "data": {
      "image/png": "[encoded data removed]",
      "text/plain": [
       "<Figure size 1152x360 with 1 Axes>"
      ]
     },
     "metadata": {
      "needs_background": "light"
     },
     "output_type": "display_data"
    }
   ],
   "source": [
    "# Run this cell without changes\n",
    "fig, ax = plt.subplots(figsize=(16,5))\n",
    "\n",
    "ax.scatter(all_review_counts, all_ratings, alpha=0.2)\n",
    "ax.set_xlabel(\"Number of Reviews\")\n",
    "ax.set_ylabel(\"Rating\")\n",
    "# \"zoom in\" to a subset of review counts\n",
    "ax.set_xlim(left=0, right=1000);"
   ]
  },
  {
   "cell_type": "markdown",
   "metadata": {},
   "source": [
    "Is a higher number of reviews associated with a higher rating?"
   ]
  },
  {
   "cell_type": "code",
   "execution_count": null,
   "metadata": {},
   "outputs": [],
   "source": [
    "# Replace None with appropriate text\n",
    "\"\"\"\n",
    "There is a positive correlation with higher number of reviews to a higher rating.\n",
    "\"\"\""
   ]
  },
  {
   "cell_type": "markdown",
   "metadata": {},
   "source": [
    "## 4. Create a Folium Map\n",
    "\n",
    "Make a map using Folium of the businesses you retrieved. Be sure to also add popups to the markers giving some basic information such as name, rating and price.\n",
    "\n",
    "You can center the map around the latitude and longitude of the first item in `full_dataset`."
   ]
  },
  {
   "cell_type": "code",
   "execution_count": 25,
   "metadata": {},
   "outputs": [
    {
     "data": {
      "text/html": [
       "<div style=\"width:100%;\"><div style=\"position:relative;width:100%;height:0;padding-bottom:60%;\"><span style=\"color:#565656\">Make this Notebook Trusted to load map: File -> Trust Notebook</span><iframe src=\"about:blank\" style=\"position:absolute;width:100%;height:100%;left:0;top:0;border:none !important;\" data-html=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 onload=\"this.contentDocument.open();this.contentDocument.write(atob(this.getAttribute('data-html')));this.contentDocument.close();\" allowfullscreen webkitallowfullscreen mozallowfullscreen></iframe></div></div>"
      ],
      "text/plain": [
       "<folium.folium.Map at 0x7fbfc8d660a0>"
      ]
     },
     "execution_count": 25,
     "metadata": {},
     "output_type": "execute_result"
    }
   ],
   "source": [
    "# Replace None with appropriate code\n",
    "\n",
    "# Import the library\n",
    "import folium\n",
    "\n",
    "# Set up center latitude and longitude\n",
    "center_lat = full_dataset[0][\"latitude\"]\n",
    "center_long = full_dataset[0][\"longitude\"]\n",
    "\n",
    "# Initialize map with center lat and long\n",
    "yelp_map = folium.Map([center_lat, center_long], zoom_start=12)\n",
    "\n",
    "# Adjust this limit to see more or fewer businesses\n",
    "limit=100\n",
    "\n",
    "for business in full_dataset[:limit]:\n",
    "    # Extract information about business\n",
    "    lat = business[\"latitude\"]\n",
    "    long = business[\"longitude\"]\n",
    "    name = business[\"name\"]\n",
    "    rating = business[\"rating\"]\n",
    "    price = business[\"price\"]\n",
    "    details = \"{}\\nPrice: {} Rating:{}\".format(name,price,rating)\n",
    "    \n",
    "    # Create popup with relevant details\n",
    "    popup = folium.Popup(details)\n",
    "    \n",
    "    # Create marker with relevant lat/long and popup\n",
    "    marker = folium.Marker([lat, long], popup=popup)\n",
    "    \n",
    "    marker.add_to(yelp_map)\n",
    "    \n",
    "yelp_map"
   ]
  },
  {
   "cell_type": "markdown",
   "metadata": {},
   "source": [
    "## Summary\n",
    "\n",
    "Nice work! In this lab, you've made multiple API calls to Yelp in order to paginate through a results set, performing some basic exploratory analysis and then creating a nice interactive map to display the results using Folium! Well done!"
   ]
  }
 ],
 "metadata": {
  "kernelspec": {
   "display_name": "Python (learn-env)",
   "language": "python",
   "name": "learn-env"
  },
  "language_info": {
   "codemirror_mode": {
    "name": "ipython",
    "version": 3
   },
   "file_extension": ".py",
   "mimetype": "text/x-python",
   "name": "python",
   "nbconvert_exporter": "python",
   "pygments_lexer": "ipython3",
   "version": "3.8.5"
  },
  "toc": {
   "base_numbering": 1,
   "nav_menu": {},
   "number_sections": true,
   "sideBar": true,
   "skip_h1_title": false,
   "title_cell": "Table of Contents",
   "title_sidebar": "Contents",
   "toc_cell": false,
   "toc_position": {},
   "toc_section_display": true,
   "toc_window_display": false
  }
 },
 "nbformat": 4,
 "nbformat_minor": 2
}
